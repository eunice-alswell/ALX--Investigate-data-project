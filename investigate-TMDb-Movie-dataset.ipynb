{
 "cells": [
  {
   "cell_type": "markdown",
   "metadata": {},
   "source": [
    "# Project: TMDB-movies Data Analysis\n",
    "\n",
    "## Table of Contents\n",
    "<ul>\n",
    "<li><a href=\"#intro\">Introduction</a></li>\n",
    "<li><a href=\"#wrangling\">Data Wrangling</a></li>\n",
    "<li><a href=\"#eda\">Exploratory Data Analysis</a></li>\n",
    "<li><a href=\"#conclusions\">Conclusions</a></li>\n",
    "</ul>"
   ]
  },
  {
   "cell_type": "markdown",
   "metadata": {},
   "source": [
    "<a id = \"intro\"></a>\n",
    "## Introduction\n",
    "\n",
    "<p>\n",
    "My analysis is based on the TMDB- movies dataset. This dataset has information about 10,000 movies obtained from The Movie Database (TMDb),which includes,the popularity, types, user ratings and revenue of the individual movie. i'm interested in finding patterns in the dataset.\n",
    "</p>\n",
    "\n",
    "<h3>Questions</h3>\n",
    "<ul>\n",
    "  <li>Which genres gain more popularity annually?</li>\n",
    "  <li>What Characteristics Are Associated With High-Profit Movies?</li>\n",
    "</ul>\n",
    "\n"
   ]
  },
  {
   "cell_type": "code",
   "execution_count": null,
   "metadata": {},
   "outputs": [],
   "source": [
    "# importing libraries\n",
    "import pandas as pd\n",
    "import numpy as np\n",
    "import matplotlib.pyplot as plt\n",
    "%matplotlib inline\n",
    "import seaborn as sns"
   ]
  },
  {
   "cell_type": "markdown",
   "metadata": {},
   "source": [
    "<a id='wrangling'></a>\n",
    "## Data Wrangling\n",
    "\n",
    "<p>\n",
    "  At this point of the analysis, I will be loading the data by reading the dataset using pandas, found out how clean the data is and trim and clean the data if neccessary for analysis.   \n",
    "</p>\n",
    "\n",
    "#### Steps Involved:\n",
    "<ol>\n",
    "  <li>Load the data</li>\n",
    "  <li>print out some rows of the data in order to understand what the data contains.</li>\n",
    "  <li>check the dimension of the data, that is, number of rows and colums of the data</li>\n",
    "  <li>check the basic information about the data, which includes the data types of the various columns, null values.</li>\n",
    "  <li>perform basic statistics which provides a concise summary about the data.</li>\n",
    "</ol>\n",
    "\n",
    "### General Properties"
   ]
  },
  {
   "cell_type": "code",
   "execution_count": null,
   "metadata": {
    "collapsed": true
   },
   "outputs": [],
   "source": [
    "#load the data using pandas read_csv method\n",
    "df = pd.read_csv(\"./tmdb-movies.csv\")\n",
    "#printing the top 5 rows of the data\n",
    "df.head()"
   ]
  },
  {
   "cell_type": "code",
   "execution_count": null,
   "metadata": {},
   "outputs": [],
   "source": [
    "#printing the last 5 rows\n",
    "df.tail()"
   ]
  },
  {
   "cell_type": "code",
   "execution_count": null,
   "metadata": {},
   "outputs": [],
   "source": [
    "# checking the dimension of the data\n",
    "df.shape"
   ]
  },
  {
   "cell_type": "code",
   "execution_count": null,
   "metadata": {},
   "outputs": [],
   "source": [
    "#print basic information about the data\n",
    "df.info()"
   ]
  },
  {
   "cell_type": "code",
   "execution_count": null,
   "metadata": {},
   "outputs": [],
   "source": [
    "#print concise summary of total data\n",
    "df.describe"
   ]
  },
  {
   "cell_type": "markdown",
   "metadata": {},
   "source": [
    ">After observing the data, the data contains,\n",
    "<ol>\n",
    "  <li>10866 rows, 21 columns</li>\n",
    "  <li>some columns has null values</li>\n",
    "  <li>some movies have both budget and revenue columns have zero values</li>\n",
    "</ol>\n"
   ]
  },
  {
   "cell_type": "code",
   "execution_count": null,
   "metadata": {},
   "outputs": [],
   "source": [
    "#count the total number of null values per column\n",
    "df.isna().sum()"
   ]
  },
  {
   "cell_type": "markdown",
   "metadata": {},
   "source": [
    ">I'll delete irrelevant data and maintain the crucial datasets after observation and the above-mentioned queries.\n",
    "\n",
    "### Data Cleaning (Deleting non-essential data from the dataset)\n",
    "\n",
    "\n"
   ]
  },
  {
   "cell_type": "markdown",
   "metadata": {},
   "source": [
    ">Data that must be changed or removed\n",
    "<ol>\n",
    "<li>Delete duplicated data(rows)</li>\n",
    "<li>Deleting non-essential columns that are not required throughout the analysis></li>\n",
    "<li>Converting the released data and release year from object to datetime Format</li>\n",
    "<li>Delete rows that have values that are inaccurate or improper.</li>\n",
    "</ol>"
   ]
  },
  {
   "cell_type": "code",
   "execution_count": null,
   "metadata": {},
   "outputs": [],
   "source": [
    "#create a copy of the original dataset\n",
    "# All changes made to the copied data will not be reflected in the orginal data\n",
    "df_copied = df.copy(deep=True)\n",
    "df_copied"
   ]
  },
  {
   "cell_type": "markdown",
   "metadata": {},
   "source": [
    "> I made a copy of the dataset so that all changes made to the copied data will not be reflected in the orginal data"
   ]
  },
  {
   "cell_type": "markdown",
   "metadata": {},
   "source": [
    "><b>1. Check and Remove dupicate rows</b>"
   ]
  },
  {
   "cell_type": "code",
   "execution_count": null,
   "metadata": {
    "collapsed": true
   },
   "outputs": [],
   "source": [
    "# check the number of dupliated data\n",
    "sum(df_copied.duplicated())"
   ]
  },
  {
   "cell_type": "code",
   "execution_count": null,
   "metadata": {},
   "outputs": [],
   "source": [
    "#delete duplicated rows from the dataset\n",
    "df_copied.drop_duplicates(inplace=True)\n",
    "sum(df_copied.duplicated())"
   ]
  },
  {
   "cell_type": "code",
   "execution_count": null,
   "metadata": {},
   "outputs": [],
   "source": [
    "#shape after droping the duplicate rows\n",
    "df_copied.shape"
   ]
  },
  {
   "cell_type": "markdown",
   "metadata": {},
   "source": [
    "<b>2. Deleting non-essential columns that are not required throughout the analysis</b>"
   ]
  },
  {
   "cell_type": "code",
   "execution_count": null,
   "metadata": {},
   "outputs": [],
   "source": [
    "df_copied.drop([\"imdb_id\",\"cast\",\"homepage\",\"tagline\",\"keywords\",\"overview\",\"budget_adj\",\"revenue_adj\"],axis=1, inplace=True)\n",
    "df_copied.head()"
   ]
  },
  {
   "cell_type": "markdown",
   "metadata": {},
   "source": [
    "<b> 3. Converting the released data and release year from object to datetime Format  </b>"
   ]
  },
  {
   "cell_type": "code",
   "execution_count": null,
   "metadata": {},
   "outputs": [],
   "source": [
    "# change the data type of release date to datatime format\n",
    "df_copied[\"release_date\"] =  pd.to_datetime(df_copied[\"release_date\"])"
   ]
  },
  {
   "cell_type": "code",
   "execution_count": null,
   "metadata": {},
   "outputs": [],
   "source": [
    "df_copied.info()"
   ]
  },
  {
   "cell_type": "markdown",
   "metadata": {},
   "source": [
    "<b>4. Delete rows that have values that are inaccurate or improper.</b>"
   ]
  },
  {
   "cell_type": "code",
   "execution_count": null,
   "metadata": {},
   "outputs": [],
   "source": [
    "#check the number of rows that have budget column to be zero(0)\n",
    "print(df_copied[df_copied[\"budget\"]==0].shape[0])\n",
    "#check the number of rows that have revenue column to be zero(0)\n",
    "print(df_copied[df_copied[\"revenue\"]==0].shape[0])"
   ]
  },
  {
   "cell_type": "code",
   "execution_count": null,
   "metadata": {},
   "outputs": [],
   "source": [
    "#filter for data that have the budget column to be zero\n",
    "df_copied[df_copied['budget'] == 0]\n",
    "#delete those rows with budget column equal to zero\n",
    "df_copied.drop(df_copied.index[df_copied['budget'] == 0], inplace=True)"
   ]
  },
  {
   "cell_type": "code",
   "execution_count": null,
   "metadata": {},
   "outputs": [],
   "source": [
    "#filter for data that have the revenue column to be zero\n",
    "df_copied[df_copied['revenue'] == 0]\n",
    "#delete those rows with revenue column equal to zero\n",
    "df_copied.drop(df_copied.index[df_copied['revenue'] == 0], inplace=True)"
   ]
  },
  {
   "cell_type": "code",
   "execution_count": null,
   "metadata": {},
   "outputs": [],
   "source": [
    "df_copied.info()"
   ]
  },
  {
   "cell_type": "code",
   "execution_count": null,
   "metadata": {},
   "outputs": [],
   "source": [
    "df_copied.describe()"
   ]
  },
  {
   "cell_type": "markdown",
   "metadata": {},
   "source": [
    "> After accessing,gathering and cleaning the data, I will move on to investigate the data based on the questions stated in the introductory section."
   ]
  },
  {
   "cell_type": "markdown",
   "metadata": {},
   "source": [
    "<a id='eda'></a>\n",
    "## Exploratory Data Analysis\n",
    ">\n",
    "\n",
    "### Research Question 1: Which genres gain more popularity annually?"
   ]
  },
  {
   "cell_type": "code",
   "execution_count": null,
   "metadata": {},
   "outputs": [],
   "source": [
    "genre_i = list(map(str,(df_copied[\"genres\"])))\n",
    "\n",
    "genre = ['Action','Adventure', 'Science Fiction', 'Thriller','Fantasy', 'Crime', 'Western', 'Family','Documentary', 'Animation','War','Mystery','Romance','TV Movie','Comedy','Drama' , 'History', 'Music', 'Horror','Foreign','nan']\n",
    "\n",
    "year = np.array(df_copied['release_year'])\n",
    "popularity = np.array(df_copied['popularity'])\n",
    "\n",
    "#make a null dataframe which indexs are genres and columns are years.\n",
    "popularity_df = pd.DataFrame(index = genre, columns = range(1960, 2016))\n",
    "#change all the values of the dataframe from NAN to zero.\n",
    "popularity_df = popularity_df.fillna(value = 0.0)\n",
    "\n",
    "i = 0\n",
    "for j in genre_i:\n",
    "    genre_s = list(map(str,j.split('|')))\n",
    "    print()\n",
    "    popularity_df.loc[genre_s, year[i]] = popularity_df.loc[genre_s, year[i]] + popularity[i]\n",
    "    print(popularity_df.loc[genre_s, year[i]])\n",
    "    i+=1"
   ]
  },
  {
   "cell_type": "markdown",
   "metadata": {},
   "source": [
    "##### Note on the above cell\n",
    ">I started  by spliting and converting the genre columns details into a list. This is because a single movie an be categorized into different genres and to get rid of the \"|\" that seperate them.\n",
    ">I went on to create a dataframe that contains the unique genres and the popularity of the movie.\n",
    ">Below function, compute the standard deviation of the individual genres according to the year. it assume to be the actual popularity of the genre. "
   ]
  },
  {
   "cell_type": "code",
   "execution_count": null,
   "metadata": {
    "collapsed": true
   },
   "outputs": [],
   "source": [
    "# find the standard divation of the popularity for the various genres\n",
    "def calculate_std(data):\n",
    "    return (data-data.mean())/data.std(ddof=0)\n",
    "\n",
    "popularGenre = calculate_std(popularity_df)\n",
    "popularGenre.head(5)"
   ]
  },
  {
   "cell_type": "code",
   "execution_count": null,
   "metadata": {},
   "outputs": [],
   "source": [
    "# basic informatiom about the genre and popularity dataframe\n",
    "popularGenre.info()"
   ]
  },
  {
   "cell_type": "code",
   "execution_count": null,
   "metadata": {},
   "outputs": [],
   "source": [
    "# the standardised data should be shown as a barh plot.\n",
    "popularGenre.iloc[:,50:].plot(kind='barh',figsize = (20,40),fontsize=13)\n",
    "# name the axes and title of the graph\n",
    "plt.title(\"Most Popular Genre from 2010 to 2015\",fontsize=16)\n",
    "plt.xlabel(\"Popularity)\",fontsize=15)\n",
    "plt.ylabel(\"Genres\",fontsize = 15)\n"
   ]
  },
  {
   "cell_type": "markdown",
   "metadata": {},
   "source": [
    "#### Brief discription of the above plot\n",
    "* The graph above, depicts the popularity of genres from the year 2010 to 2015.\n",
    "* In 2010, action movies was more popular the others\n",
    "* In 2011, action movies was more popular the others\n",
    "* In 2012, drama was the most popular  \n",
    "* In 2013, drama was the most popular whiles fantesy gain the lest pupolarity \n",
    "* In 2014, action movies was more popular the others\n",
    "* In 2015, action movies was more popular the others"
   ]
  },
  {
   "cell_type": "code",
   "execution_count": null,
   "metadata": {},
   "outputs": [],
   "source": [
    "figure, axis = plt.subplots(3,3,figsize = (16,10))\n",
    "\n",
    "#set the title of the subplot.\n",
    "figure.suptitle('Genre Popularity based on Various Years',fontsize = 16)\n",
    "\n",
    "#plot the individual genre plot to see the popularity difference yearly.\n",
    "popularGenre.loc['Action'].plot(label = \"Action\",color='#33FFB5',ax = axis[0][0],legend=True)\n",
    "popularGenre.loc['Drama'].plot(label = \"Drama\",color = '#f67280',ax = axis[0][1],legend=True)\n",
    "popularGenre.loc['Science Fiction'].plot(label = \"Science Fiction\",color='#6f6600',ax = axis[1][2],legend=True)\n",
    "popularGenre.loc['Comedy'].plot(label = \"Comedy\",color='#fe5f55',ax = axis[0][2],legend=True)\n",
    "popularGenre.loc['Romance'].plot(label = \"Romance\",color='#1a2c5b',ax = axis[1][1],legend=True)\n",
    "popularGenre.loc['Thriller'].plot(label = \"Horror\",color='#00818a',ax = axis[1][0],legend=True)\n",
    "popularGenre.loc['Music'].plot(label = \"Music\",color='#db3b61',ax = axis[2][0],legend=True)\n",
    "popularGenre.loc['Adventure'].plot(label = \"Adventure\",color='#08c299',ax = axis[2][1],legend=True)\n",
    "popularGenre.loc['Crime'].plot(label = \"Crime\",color='c',ax = axis[2][2],legend=True)"
   ]
  },
  {
   "cell_type": "markdown",
   "metadata": {},
   "source": [
    "##### A short note on the graph above\n",
    ">From 1960 to 2015, the popularity of various genres is seen in the graph above.\n",
    "* It's worth noting that music's popularity peaked in 2010 and peaked in 1964, respectively.\n",
    "* In terms of popularity, it grew in popularity in 2003 and peaked in 1975.\n",
    "* The highest and lowest popularity for comedy were recorded in 1988 and 1971, respectively. \n",
    "* The highest and lowest popularity for drama were reported in 1976 and 1977, respectively.\n",
    "* Horror films had their peak popularity in 1964 and their lowest in 1961.\n",
    "* In 1965, romance was at its peak, and in 1978, it was at its lowest.\n",
    "* Science fiction had its peak popularity in 1979 and its lowest in 1964; adventure had its highest popularity in 1962 and its lowest in 1964.\n",
    "  "
   ]
  },
  {
   "cell_type": "markdown",
   "metadata": {},
   "source": [
    "### Research Question 2  : What Characteristics Are Associated With High-Profit Movies?\n",
    "\n",
    "> "
   ]
  },
  {
   "cell_type": "code",
   "execution_count": null,
   "metadata": {
    "collapsed": true
   },
   "outputs": [],
   "source": [
    "data=[\"id\",\"popularity\",\"budget\",\"revenue\",\"original_title\",\"runtime\",\"vote_average\",\"release_year\"]\n",
    "xtics = pd.DataFrame(df_copied['revenue'].sort_values(ascending=False))\n",
    "for i in data:\n",
    "  xtics[i]=df_copied[i]\n",
    "\n",
    "xtics.head()\n"
   ]
  },
  {
   "cell_type": "code",
   "execution_count": null,
   "metadata": {},
   "outputs": [],
   "source": [
    "\n",
    "figure, axis = plt.subplots(2,2,figsize = (16,6))\n",
    "figure.suptitle(\"Revenue Vs (Budget,Popularity,Vote Average, Runtime)\",fontsize=14)\n",
    "# scatter plot for each properties showing the relationship between them\n",
    "sns.regplot(x=df_copied['revenue'], y=df_copied['budget'],color='c',ax=axis[0][0])\n",
    "sns.regplot(x=df_copied['revenue'], y=df_copied['popularity'],color='c',ax=axis[0][1])\n",
    "sns.regplot(x=df_copied['revenue'], y=df_copied['vote_average'],color='c',ax=axis[1][0])\n",
    "sns.regplot(x=df_copied['revenue'], y=df_copied['runtime'],color='c',ax=axis[1][1])\n",
    "\n",
    "sns.set_style(\"whitegrid\")"
   ]
  },
  {
   "cell_type": "code",
   "execution_count": null,
   "metadata": {},
   "outputs": [],
   "source": [
    "# check if there is any zero value and replace with nan \n",
    "xtics['budget'] = xtics['budget'].replace(0,np.NAN)\n",
    "xtics['revenue'] = xtics['revenue'].replace(0,np.NAN)\n",
    "# calculate the correction revenue and the other properties\n",
    "corr = xtics.corr()\n",
    "a = corr.loc['revenue','budget']\n",
    "b = corr.loc['revenue','popularity']\n",
    "c = corr.loc['revenue','vote_average']\n",
    "d = corr.loc['revenue','runtime']\n",
    "# create a dataFrame for the correction coefficient\n",
    "corr_data = pd.DataFrame(data =[a,b,c,d],index=[\"budget\",\"popularity\",\"vote_average\",\"runtime\"], columns=[\"revenue\"])\n",
    "# find the transpose of the corr_data \n",
    "corr_data.transpose()\n",
    "\n"
   ]
  },
  {
   "cell_type": "code",
   "execution_count": null,
   "metadata": {},
   "outputs": [],
   "source": [
    "fig,ax = plt.subplots( figsize =( 4 , 2 ) )\n",
    "fig.suptitle(\"Correlation between revenue and (budget,popularity,vote Average and runtime)\",fontsize=14)\n",
    "cmap = sns.diverging_palette( 520 , 10 , as_cmap = True )\n",
    "fig = sns.heatmap(corr_data.transpose(),cmap = cmap,square=True, cbar_kws={ 'shrink' : .9 }, ax=ax, annot = True, annot_kws = { 'fontsize' : 12 })"
   ]
  },
  {
   "cell_type": "markdown",
   "metadata": {},
   "source": [
    "## Explanation to the above plots\n",
    "\n",
    " * First Plot: Revenue Vs Budget\n",
    " >There are quite number of small movies with larger budget however the increase in revenue is a little higher. Base on the graph, there is a good probability that movies with Greta budget results in higher Revenue. correlation coefficient is 0.69\n",
    " \n",
    " *  Second Plot: Revenue Vs Popularity\n",
    " >Popularity seems to be directly proportional to Revenue.This implies that, the higher the popularity the higher the increase in revenue of the movies. they have correlation of 0.65  \n",
    "\n",
    "* Third Plot: Revenue Vs Vote Average\n",
    ">Due to the low correlation between the rating and the revenue, it can be clearly stated that vote average have no relationship or very little impact on the income of a movie. \n",
    "\n",
    "* Fourth Plot: Revenue Vs Runtime\n",
    ">The relationship between runtime and revenue is little. Though the correlation between them is positive,that is, 0.25, it can be concluded that runtime has less effect on them revenue of the movies."
   ]
  },
  {
   "cell_type": "markdown",
   "metadata": {},
   "source": [
    "<a id='conclusions'></a>\n",
    "## Conclusions\n",
    "\n",
    ">After performing  exploratory analysis on the questions I imposed, the following is the summary of my findings: \n",
    "* Action movies gain more popularity over the year, followed by Drama and then thrillers.\n",
    "* Most movies with greater budgets  and higher popularity has proving to be gain more revenues.\n",
    "\n",
    "#### Limitations\n",
    "> it was notice in the the genres column of the movies contains data the was seperated by \"|\" during the data cleaning stage. As a result, runtime to map the various genres to a list was much longer.\n",
    "\n",
    ">Using the standard deviation values to represent the popularity of the genre might not be completely be accurate.If the genres of each movie were more specific, then the popularity will be more concise."
   ]
  }
 ],
 "metadata": {
  "interpreter": {
   "hash": "14bb26422d091525c1ef0b60a00c589bf326c9560705eecb467bc1f470d5649f"
  },
  "kernelspec": {
   "display_name": "Python 3.9.7",
   "language": "python",
   "name": "python3"
  },
  "language_info": {
   "codemirror_mode": {
    "name": "ipython",
    "version": 3
   },
   "file_extension": ".py",
   "mimetype": "text/x-python",
   "name": "python",
   "nbconvert_exporter": "python",
   "pygments_lexer": "ipython3",
   "version": "3.9.7"
  }
 },
 "nbformat": 4,
 "nbformat_minor": 2
}
